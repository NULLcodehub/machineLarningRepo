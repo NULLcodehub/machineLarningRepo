{
 "cells": [
  {
   "cell_type": "markdown",
   "metadata": {},
   "source": [
    "simple Linear regression\n",
    "\n",
    "y=b_0 + b_1(X_1)\n",
    "\n",
    "y=dependent variable\n",
    "b_0=y-intercept(constant)\n",
    "b_1=slope coefficient\n",
    "X_1=independent variable"
   ]
  },
  {
   "cell_type": "code",
   "execution_count": null,
   "metadata": {},
   "outputs": [],
   "source": [
    " "
   ]
  }
 ],
 "metadata": {
  "language_info": {
   "name": "python"
  }
 },
 "nbformat": 4,
 "nbformat_minor": 2
}
